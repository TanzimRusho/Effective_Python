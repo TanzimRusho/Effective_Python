{
  "nbformat": 4,
  "nbformat_minor": 0,
  "metadata": {
    "colab": {
      "name": "chapter_1",
      "provenance": [],
      "authorship_tag": "ABX9TyNzB5nQ3czfH+bx00UkVrb8",
      "include_colab_link": true
    },
    "kernelspec": {
      "name": "python3",
      "display_name": "Python 3"
    }
  },
  "cells": [
    {
      "cell_type": "markdown",
      "metadata": {
        "id": "view-in-github",
        "colab_type": "text"
      },
      "source": [
        "<a href=\"https://colab.research.google.com/github/TanzimRusho/Effective_Python/blob/main/chapter_1.ipynb\" target=\"_parent\"><img src=\"https://colab.research.google.com/assets/colab-badge.svg\" alt=\"Open In Colab\"/></a>"
      ]
    },
    {
      "cell_type": "code",
      "metadata": {
        "id": "-0SB4vE8jeWA",
        "colab": {
          "base_uri": "https://localhost:8080/",
          "height": 34
        },
        "outputId": "5bdbadc0-6d85-4876-9542-1f3da2c67ab4"
      },
      "source": [
        "m = (x**2 for x in range(5))\n",
        "next(m)\n",
        "next(m)\n",
        "list(m)"
      ],
      "execution_count": null,
      "outputs": [
        {
          "output_type": "execute_result",
          "data": {
            "text/plain": [
              "[4, 9, 16]"
            ]
          },
          "metadata": {
            "tags": []
          },
          "execution_count": 8
        }
      ]
    },
    {
      "cell_type": "code",
      "metadata": {
        "id": "gd9cQdGPfz7F",
        "colab": {
          "base_uri": "https://localhost:8080/",
          "height": 34
        },
        "outputId": "a3737dc5-3127-4df7-a8d9-b148cf9f2cb8"
      },
      "source": [
        "a = [2, 3, 1]\n",
        "min(enumerate(a), key=lambda x: x[1])[0]\n"
      ],
      "execution_count": null,
      "outputs": [
        {
          "output_type": "execute_result",
          "data": {
            "text/plain": [
              "2"
            ]
          },
          "metadata": {
            "tags": []
          },
          "execution_count": 6
        }
      ]
    },
    {
      "cell_type": "code",
      "metadata": {
        "id": "K8FCuX3UjDoi",
        "colab": {
          "base_uri": "https://localhost:8080/",
          "height": 51
        },
        "outputId": "8d854322-f701-4f60-deeb-77e0cbd192b1"
      },
      "source": [
        "i = 5\n",
        "\n",
        "while i > 1:\n",
        "    print(\"Whil-ing away!\")\n",
        "    i -= 1\n",
        "    if i == 3:\n",
        "        break\n",
        "else:\n",
        "    print(\"Finished up!\")"
      ],
      "execution_count": null,
      "outputs": [
        {
          "output_type": "stream",
          "text": [
            "Whil-ing away!\n",
            "Whil-ing away!\n"
          ],
          "name": "stdout"
        }
      ]
    },
    {
      "cell_type": "code",
      "metadata": {
        "id": "1jY1y5r8U2dZ"
      },
      "source": [
        "UNDEFINED = object()\n",
        "\n",
        "def divide_json(path):\n",
        "    handle = open(path, 'r+')  # May rise IOError\n",
        "    try:\n",
        "        op = json.loads(data)  # May raise UnicodeDecodeError\n",
        "        value = (\n",
        "            op['numerator'] /\n",
        "            op['denominator']  # May raise ZeroDivisionError\n",
        "        )\n",
        "    except ZeroDivisionError as e:\n",
        "        return UNDEFINED\n",
        "    else:\n",
        "        op['result'] = value\n",
        "        result = json.dumps(op)\n",
        "        handle.seek(0)\n",
        "        handle.write(result)  # May raise IOError\n",
        "        return value\n",
        "    finally:\n",
        "        handle.close()  # Always runs"
      ],
      "execution_count": null,
      "outputs": []
    },
    {
      "cell_type": "code",
      "metadata": {
        "id": "8ApAShtvjnpq"
      },
      "source": [
        "def load_json_key(data, key):\n",
        "    try:\n",
        "        result_dict = json.loads(data)  # May raise ValueError\n",
        "    except ValueError as e:\n",
        "        raise KeyError from e\n",
        "    else:\n",
        "        return result_dict[key]  # May raise KeyError\n"
      ],
      "execution_count": null,
      "outputs": []
    },
    {
      "cell_type": "code",
      "metadata": {
        "id": "8jMW8ko97s16",
        "colab": {
          "base_uri": "https://localhost:8080/",
          "height": 122
        },
        "outputId": "dd0490d5-3e49-4a4a-c611-142036ae5bbc"
      },
      "source": [
        "from google.colab import drive\n",
        "drive.mount('/content/drive')"
      ],
      "execution_count": null,
      "outputs": [
        {
          "output_type": "stream",
          "text": [
            "Go to this URL in a browser: https://accounts.google.com/o/oauth2/auth?client_id=947318989803-6bn6qk8qdgf4n4g3pfee6491hc0brc4i.apps.googleusercontent.com&redirect_uri=urn%3aietf%3awg%3aoauth%3a2.0%3aoob&response_type=code&scope=email%20https%3a%2f%2fwww.googleapis.com%2fauth%2fdocs.test%20https%3a%2f%2fwww.googleapis.com%2fauth%2fdrive%20https%3a%2f%2fwww.googleapis.com%2fauth%2fdrive.photos.readonly%20https%3a%2f%2fwww.googleapis.com%2fauth%2fpeopleapi.readonly\n",
            "\n",
            "Enter your authorization code:\n",
            "··········\n",
            "Mounted at /content/drive\n"
          ],
          "name": "stdout"
        }
      ]
    },
    {
      "cell_type": "code",
      "metadata": {
        "id": "WOqmArY67-WG",
        "colab": {
          "base_uri": "https://localhost:8080/",
          "height": 68
        },
        "outputId": "206a0ab4-9362-4b8c-df59-d5880dc7295f"
      },
      "source": [
        "import glob\n",
        "glob.glob('/content/drive/My Drive/Books of Python/effective_python_practice/*')"
      ],
      "execution_count": null,
      "outputs": [
        {
          "output_type": "execute_result",
          "data": {
            "text/plain": [
              "['/content/drive/My Drive/Books of Python/effective_python_practice/chapter_1.ipynb',\n",
              " '/content/drive/My Drive/Books of Python/effective_python_practice/coprime_test.ipynb',\n",
              " '/content/drive/My Drive/Books of Python/effective_python_practice/al-quran 1.jpg']"
            ]
          },
          "metadata": {
            "tags": []
          },
          "execution_count": 5
        }
      ]
    },
    {
      "cell_type": "code",
      "metadata": {
        "id": "FF_jWyhY85hT"
      },
      "source": [
        "handle = open('/content/drive/My Drive/Books of Python/effective_python_practice/al-quran 1.jpg')  # May rise IOError\n",
        "try:\n",
        "    data = handle.read()  # May rise UnicodeDecodeError (for .txt file per se)\n",
        "finally:\n",
        "    handle.close()  # Always runs after try"
      ],
      "execution_count": null,
      "outputs": []
    },
    {
      "cell_type": "code",
      "metadata": {
        "id": "-Yr5a1AVjbk-",
        "colab": {
          "base_uri": "https://localhost:8080/",
          "height": 85
        },
        "outputId": "b5594ecb-cc9f-4065-b89a-a475e8407fed"
      },
      "source": [
        "for i in range(3):\n",
        "    print(\"Loop %d\" % i)\n",
        "else:\n",
        "    print(\"Else block\")"
      ],
      "execution_count": null,
      "outputs": [
        {
          "output_type": "stream",
          "text": [
            "Loop 0\n",
            "Loop 1\n",
            "Loop 2\n",
            "Else block\n"
          ],
          "name": "stdout"
        }
      ]
    },
    {
      "cell_type": "code",
      "metadata": {
        "id": "1WS47a1o_k1e",
        "colab": {
          "base_uri": "https://localhost:8080/",
          "height": 85
        },
        "outputId": "eb0f9822-5aa7-41bb-df06-08b5d22197cf"
      },
      "source": [
        "for i in range(3):\n",
        "    print(\"Loop %d\" % i)\n",
        "    if i == 1:\n",
        "        break\n",
        "else:\n",
        "    print(\"Else block\")\n",
        "\n",
        "for x in []:\n",
        "    print(\"Never runs\")\n",
        "else:\n",
        "    print(\"For else block\")\n",
        "\n",
        "while False:\n",
        "    print(\"Never runs\")\n",
        "else:\n",
        "    print(\"While else block\")"
      ],
      "execution_count": null,
      "outputs": [
        {
          "output_type": "stream",
          "text": [
            "Loop 0\n",
            "Loop 1\n",
            "For else block\n",
            "While else block\n"
          ],
          "name": "stdout"
        }
      ]
    },
    {
      "cell_type": "code",
      "metadata": {
        "id": "W3pXYrJguAvQ",
        "colab": {
          "base_uri": "https://localhost:8080/",
          "height": 34
        },
        "outputId": "e8375fee-26e0-4249-c43d-b3048cf6d867"
      },
      "source": [
        "names = ['ratul_', 'adnan', 'suman__']\n",
        "letters = [len(n) for n in names]\n",
        "\n",
        "longest_name = None\n",
        "max_letters = 0\n",
        "\n",
        "for i in range(len(names)):\n",
        "    count = letters[i]\n",
        "    if count > max_letters:\n",
        "        longest_name = names[i]\n",
        "        max_letters = count\n",
        "\n",
        "print(longest_name)"
      ],
      "execution_count": null,
      "outputs": [
        {
          "output_type": "stream",
          "text": [
            "suman__\n"
          ],
          "name": "stdout"
        }
      ]
    },
    {
      "cell_type": "code",
      "metadata": {
        "id": "3c08ELTfVT4D",
        "colab": {
          "base_uri": "https://localhost:8080/",
          "height": 34
        },
        "outputId": "735a9d88-07f0-4dbb-ab86-891f3189882b"
      },
      "source": [
        "longest_name = None\n",
        "max_letters = 0\n",
        "\n",
        "for name, count in zip(names, letters):\n",
        "    if count > max_letters:\n",
        "        longest_name = name\n",
        "        max_letters = count\n",
        "\n",
        "print(longest_name)"
      ],
      "execution_count": null,
      "outputs": [
        {
          "output_type": "stream",
          "text": [
            "suman__\n"
          ],
          "name": "stdout"
        }
      ]
    },
    {
      "cell_type": "code",
      "metadata": {
        "id": "roGI9Er0hot6",
        "colab": {
          "base_uri": "https://localhost:8080/",
          "height": 68
        },
        "outputId": "5b4f269e-16d0-46d1-83d9-80348ac6a658"
      },
      "source": [
        "names.append('sakib')\n",
        "for name, count in zip(names, letters):\n",
        "    print(name)"
      ],
      "execution_count": null,
      "outputs": [
        {
          "output_type": "stream",
          "text": [
            "ratul_\n",
            "adnan\n",
            "suman__\n"
          ],
          "name": "stdout"
        }
      ]
    },
    {
      "cell_type": "code",
      "metadata": {
        "id": "a0T89a3nfqWR",
        "colab": {
          "base_uri": "https://localhost:8080/",
          "height": 85
        },
        "outputId": "bc291449-8c43-4533-bead-eda10c821fe0"
      },
      "source": [
        "from itertools import zip_longest\n",
        "\n",
        "for name, count in zip_longest(names, letters):\n",
        "    print(name)\n"
      ],
      "execution_count": null,
      "outputs": [
        {
          "output_type": "stream",
          "text": [
            "ratul_\n",
            "adnan\n",
            "suman__\n",
            "sakib\n"
          ],
          "name": "stdout"
        }
      ]
    },
    {
      "cell_type": "code",
      "metadata": {
        "id": "934jvldUusj9",
        "colab": {
          "base_uri": "https://localhost:8080/",
          "height": 85
        },
        "outputId": "f9cb365a-f540-40dd-befb-f0789626c25d"
      },
      "source": [
        "chile_ranks = {'hhost': 1, 'habanero': 2, 'cyanne': 3}\n",
        "rank_dict = {rank: name for name, rank in chile_ranks.items()}\n",
        "chile_set = {name for name in rank_dict.values()}\n",
        "print(rank_dict.values())\n",
        "chile_len_set = {len(name) for name in rank_dict.values()}\n",
        "print(rank_dict.values())\n",
        "print(chile_set)\n",
        "print(chile_len_set)"
      ],
      "execution_count": null,
      "outputs": [
        {
          "output_type": "stream",
          "text": [
            "dict_values(['hhost', 'habanero', 'cyanne'])\n",
            "dict_values(['hhost', 'habanero', 'cyanne'])\n",
            "{'cyanne', 'habanero', 'hhost'}\n",
            "{8, 5, 6}\n"
          ],
          "name": "stdout"
        }
      ]
    },
    {
      "cell_type": "code",
      "metadata": {
        "id": "q6J9ToZsUhYd",
        "colab": {
          "base_uri": "https://localhost:8080/",
          "height": 207
        },
        "outputId": "dd6d0d44-73a1-43af-f820-ee2d4d06f84f"
      },
      "source": [
        "!pip install pycurl"
      ],
      "execution_count": null,
      "outputs": [
        {
          "output_type": "stream",
          "text": [
            "Collecting pycurl\n",
            "\u001b[?25l  Downloading https://files.pythonhosted.org/packages/ef/05/4b773f74f830a90a326b06f9b24e65506302ab049e825a3c0b60b1a6e26a/pycurl-7.43.0.5.tar.gz (216kB)\n",
            "\u001b[K     |████████████████████████████████| 225kB 2.7MB/s \n",
            "\u001b[?25hBuilding wheels for collected packages: pycurl\n",
            "  Building wheel for pycurl (setup.py) ... \u001b[?25l\u001b[?25hdone\n",
            "  Created wheel for pycurl: filename=pycurl-7.43.0.5-cp36-cp36m-linux_x86_64.whl size=283546 sha256=b4355bc0f556b2c344f90c9cf1bd14dbff7c93f4141312c22ffed7a255dc70fc\n",
            "  Stored in directory: /root/.cache/pip/wheels/98/a3/19/9439c79b88a742f508af0c4e410ae3f685db2e13d3374e798e\n",
            "Successfully built pycurl\n",
            "Installing collected packages: pycurl\n",
            "Successfully installed pycurl-7.43.0.5\n"
          ],
          "name": "stdout"
        }
      ]
    },
    {
      "cell_type": "code",
      "metadata": {
        "id": "r2fWhoFQfd7W"
      },
      "source": [
        "import pycurl"
      ],
      "execution_count": null,
      "outputs": []
    },
    {
      "cell_type": "code",
      "metadata": {
        "id": "_kdf3Udg_nLd",
        "colab": {
          "base_uri": "https://localhost:8080/",
          "height": 34
        },
        "outputId": "e4cc9783-0ccb-4933-eda4-01c5dfd52cd1"
      },
      "source": [
        "a = ['a', 'b', 'c', 'd', 'e', 'f', 'g', 'h']\n",
        "b = a[::2]\n",
        "c = b[1:-1]\n",
        "print(c)"
      ],
      "execution_count": null,
      "outputs": [
        {
          "output_type": "stream",
          "text": [
            "['c', 'e']\n"
          ],
          "name": "stdout"
        }
      ]
    },
    {
      "cell_type": "code",
      "metadata": {
        "id": "w-XW_CxKhUJQ",
        "colab": {
          "base_uri": "https://localhost:8080/",
          "height": 51
        },
        "outputId": "5e426d22-60dc-4171-8165-fd96ed731bbd"
      },
      "source": [
        "a = [1, 2, 3, 4, 5, 6, 7, 8, 9, 10]\n",
        "squares = [x**2 for x in a]\n",
        "print(squares)\n",
        "\n",
        "lambda_squares = map(lambda x: x ** 2, a)\n",
        "print(lambda_squares)"
      ],
      "execution_count": null,
      "outputs": [
        {
          "output_type": "stream",
          "text": [
            "[1, 4, 9, 16, 25, 36, 49, 64, 81, 100]\n",
            "<map object at 0x7ff5a4363198>\n"
          ],
          "name": "stdout"
        }
      ]
    },
    {
      "cell_type": "code",
      "metadata": {
        "id": "moui0wFjVlIf",
        "colab": {
          "base_uri": "https://localhost:8080/",
          "height": 34
        },
        "outputId": "f4d27019-073f-4850-c92d-9f5189b789fa"
      },
      "source": [
        "even_squares = [x**2 for x in a if x % 2 == 0]\n",
        "print(even_squares)"
      ],
      "execution_count": null,
      "outputs": [
        {
          "output_type": "stream",
          "text": [
            "[4, 16, 36, 64, 100]\n"
          ],
          "name": "stdout"
        }
      ]
    },
    {
      "cell_type": "code",
      "metadata": {
        "id": "Ih2fFqRzkWK4"
      },
      "source": [
        "alt = map(lambda x: x ** 2, filter(lambda x: x % 2 == 0, a))\n",
        "assert even_squares == list(alt) "
      ],
      "execution_count": null,
      "outputs": []
    },
    {
      "cell_type": "code",
      "metadata": {
        "id": "6ab02NozwWDk",
        "colab": {
          "base_uri": "https://localhost:8080/",
          "height": 85
        },
        "outputId": "c017cc1c-fb92-42e6-827c-decbf8e36b36"
      },
      "source": [
        "a = ['a', 'b', 'c', 'd', 'e', 'f', 'g', 'h']\n",
        "b = a[4:]\n",
        "print('Before:', b)\n",
        "b[1] = 99\n",
        "print('After:', b)\n",
        "print('No change:', a)\n",
        "c, d = a[:2]\n",
        "print(c, d)\n"
      ],
      "execution_count": null,
      "outputs": [
        {
          "output_type": "stream",
          "text": [
            "Before: ['e', 'f', 'g', 'h']\n",
            "After: ['e', 99, 'g', 'h']\n",
            "No change: ['a', 'b', 'c', 'd', 'e', 'f', 'g', 'h']\n",
            "a b\n"
          ],
          "name": "stdout"
        }
      ]
    },
    {
      "cell_type": "code",
      "metadata": {
        "id": "nbxiSBSa1wsQ",
        "colab": {
          "base_uri": "https://localhost:8080/",
          "height": 51
        },
        "outputId": "6f385c6e-ff02-42f0-a032-1f71513ad826"
      },
      "source": [
        "print('Before:', a)\n",
        "a[2:7] = [99, 24, 12]\n",
        "print('After:', a)"
      ],
      "execution_count": null,
      "outputs": [
        {
          "output_type": "stream",
          "text": [
            "Before: ['a', 'b', 'c', 'd', 'e', 'f', 'g', 'h']\n",
            "After: ['a', 'b', 99, 24, 12, 'h']\n"
          ],
          "name": "stdout"
        }
      ]
    },
    {
      "cell_type": "code",
      "metadata": {
        "id": "cx_D6CHl2lUY"
      },
      "source": [
        "b = a[:]\n",
        "assert b == a and b is not a"
      ],
      "execution_count": null,
      "outputs": []
    },
    {
      "cell_type": "code",
      "metadata": {
        "id": "d9HyeMF835WJ",
        "colab": {
          "base_uri": "https://localhost:8080/",
          "height": 51
        },
        "outputId": "0c8f480e-6ae8-4d85-f29d-fd7ef862f536"
      },
      "source": [
        "b = a\n",
        "print('Before:', a)\n",
        "a[:] = [101, 102, 103]\n",
        "assert a is b   # Still the same list object\n",
        "print('After:', a)   # Now has different contents \n"
      ],
      "execution_count": null,
      "outputs": [
        {
          "output_type": "stream",
          "text": [
            "Before: ['a', 'b', 99, 24, 12, 'h']\n",
            "After: [101, 102, 103]\n"
          ],
          "name": "stdout"
        }
      ]
    },
    {
      "cell_type": "code",
      "metadata": {
        "id": "3NPSo-hFWyqh",
        "colab": {
          "base_uri": "https://localhost:8080/",
          "height": 136
        },
        "outputId": "348085d0-bb66-4a89-aba6-fd16b2423952"
      },
      "source": [
        "a = ['a', 'b', 'c', 'd', 'e', 'f', 'g', 'h']\n",
        "assert a[:5] == a[0:5] \n",
        "assert a[5:] == a[5:len(a)]\n",
        "print(a[:])\n",
        "print(a[:-1])\n",
        "print(a[4:])\n",
        "print([a[:-3]])\n",
        "print(a[2:5])\n",
        "print(a[2:-1])\n",
        "print(a[-3:-1])"
      ],
      "execution_count": null,
      "outputs": [
        {
          "output_type": "stream",
          "text": [
            "['a', 'b', 'c', 'd', 'e', 'f', 'g', 'h']\n",
            "['a', 'b', 'c', 'd', 'e', 'f', 'g']\n",
            "['e', 'f', 'g', 'h']\n",
            "[['a', 'b', 'c', 'd', 'e']]\n",
            "['c', 'd', 'e']\n",
            "['c', 'd', 'e', 'f', 'g']\n",
            "['f', 'g']\n"
          ],
          "name": "stdout"
        }
      ]
    },
    {
      "cell_type": "code",
      "metadata": {
        "id": "w-WYdeNiV3PB",
        "colab": {
          "base_uri": "https://localhost:8080/",
          "height": 374
        },
        "outputId": "ff4c9080-914d-4a3b-a6fe-eddcaf80b6f8"
      },
      "source": [
        "import this"
      ],
      "execution_count": null,
      "outputs": [
        {
          "output_type": "stream",
          "text": [
            "The Zen of Python, by Tim Peters\n",
            "\n",
            "Beautiful is better than ugly.\n",
            "Explicit is better than implicit.\n",
            "Simple is better than complex.\n",
            "Complex is better than complicated.\n",
            "Flat is better than nested.\n",
            "Sparse is better than dense.\n",
            "Readability counts.\n",
            "Special cases aren't special enough to break the rules.\n",
            "Although practicality beats purity.\n",
            "Errors should never pass silently.\n",
            "Unless explicitly silenced.\n",
            "In the face of ambiguity, refuse the temptation to guess.\n",
            "There should be one-- and preferably only one --obvious way to do it.\n",
            "Although that way may not be obvious at first unless you're Dutch.\n",
            "Now is better than never.\n",
            "Although never is often better than *right* now.\n",
            "If the implementation is hard to explain, it's a bad idea.\n",
            "If the implementation is easy to explain, it may be a good idea.\n",
            "Namespaces are one honking great idea -- let's do more of those!\n"
          ],
          "name": "stdout"
        }
      ]
    },
    {
      "cell_type": "code",
      "metadata": {
        "id": "9s0pxV2z-i0v",
        "colab": {
          "base_uri": "https://localhost:8080/",
          "height": 51
        },
        "outputId": "e41518bd-ec81-4680-89a3-6eda74ebd382"
      },
      "source": [
        "a = ['red', 'orange', 'purple', 'black', 'white', 'blue']\n",
        "odds = a[::2]\n",
        "evens = a[1::2]\n",
        "print(odds)\n",
        "print(evens)"
      ],
      "execution_count": null,
      "outputs": [
        {
          "output_type": "stream",
          "text": [
            "['red', 'purple', 'white']\n",
            "['orange', 'black', 'blue']\n"
          ],
          "name": "stdout"
        }
      ]
    },
    {
      "cell_type": "code",
      "metadata": {
        "id": "YwmrpZvqDeQA",
        "colab": {
          "base_uri": "https://localhost:8080/",
          "height": 34
        },
        "outputId": "eec7502d-2155-43a6-87a2-1abe4aafed5b"
      },
      "source": [
        "x = b'mongoose'\n",
        "y = x[::-1]\n",
        "print(y)"
      ],
      "execution_count": null,
      "outputs": [
        {
          "output_type": "stream",
          "text": [
            "b'esoognom'\n"
          ],
          "name": "stdout"
        }
      ]
    },
    {
      "cell_type": "code",
      "metadata": {
        "id": "VoFL3GIDDycB",
        "colab": {
          "base_uri": "https://localhost:8080/",
          "height": 34
        },
        "outputId": "22e56e78-6729-4357-8943-03cbc98e2a99"
      },
      "source": [
        "x = b\"mongoose\"\n",
        "y = x[::-1]\n",
        "print(y)"
      ],
      "execution_count": null,
      "outputs": [
        {
          "output_type": "stream",
          "text": [
            "b'esoognom'\n"
          ],
          "name": "stdout"
        }
      ]
    },
    {
      "cell_type": "code",
      "metadata": {
        "id": "7mqGE6HPE41K",
        "colab": {
          "base_uri": "https://localhost:8080/",
          "height": 51
        },
        "outputId": "7bef299e-c55a-4740-af5f-41d4ac7d4e2c"
      },
      "source": [
        "a = ['a', 'b', 'c', 'd', 'e', 'f', 'g', 'h']\n",
        "print(a[::2])\n",
        "print(a[::-2])"
      ],
      "execution_count": null,
      "outputs": [
        {
          "output_type": "stream",
          "text": [
            "['a', 'c', 'e', 'g']\n",
            "['h', 'f', 'd', 'b']\n"
          ],
          "name": "stdout"
        }
      ]
    },
    {
      "cell_type": "code",
      "metadata": {
        "id": "qKegopfrXBA6",
        "colab": {
          "base_uri": "https://localhost:8080/",
          "height": 34
        },
        "outputId": "cc63aa2c-79c5-49b3-f963-3714892aeab4"
      },
      "source": [
        "!python --version"
      ],
      "execution_count": null,
      "outputs": [
        {
          "output_type": "stream",
          "text": [
            "Python 3.6.9\n"
          ],
          "name": "stdout"
        }
      ]
    },
    {
      "cell_type": "code",
      "metadata": {
        "id": "kDecy7UIa_KS",
        "colab": {
          "base_uri": "https://localhost:8080/",
          "height": 68
        },
        "outputId": "9f97245c-448b-45a8-b5b1-a29e18ca2dc1"
      },
      "source": [
        "import sys\n",
        "print(sys.version_info)\n",
        "print(sys.version)"
      ],
      "execution_count": null,
      "outputs": [
        {
          "output_type": "stream",
          "text": [
            "sys.version_info(major=3, minor=6, micro=9, releaselevel='final', serial=0)\n",
            "3.6.9 (default, Nov  7 2019, 10:44:02) \n",
            "[GCC 8.3.0]\n"
          ],
          "name": "stdout"
        }
      ]
    },
    {
      "cell_type": "markdown",
      "metadata": {
        "id": "FxaY-5fcgDDP"
      },
      "source": [
        "PEP 8: Python Enhancement Proposal #8, is the style-guide for how to format Python code."
      ]
    },
    {
      "cell_type": "code",
      "metadata": {
        "id": "0mNL-fDjkSQW"
      },
      "source": [
        "def to_str(bytes_or_str):\n",
        "    if isinstance(bytes_or_str, bytes):\n",
        "        value = bytes_or_str.decode('utf-8')\n",
        "    else:\n",
        "        value = bytes_or_str\n",
        "    return value  # Instance of str\n",
        "\n",
        "def to_bytes(bytes_or_str):\n",
        "    if isinstance(bytes_or_str, str):\n",
        "        value = bytes_or_str.encode('utf-8')\n",
        "    else:\n",
        "        value = bytes_or_str\n",
        "    return value  # Instance of bytes\n",
        "\n",
        "    "
      ],
      "execution_count": null,
      "outputs": []
    },
    {
      "cell_type": "code",
      "metadata": {
        "id": "HpugGpkamrTg"
      },
      "source": [
        "with open('/tmp/random.bin', 'wb') as f:\n",
        "    f.write(os.urandom(10))"
      ],
      "execution_count": null,
      "outputs": []
    },
    {
      "cell_type": "code",
      "metadata": {
        "id": "FqLBy18Ron1E",
        "colab": {
          "base_uri": "https://localhost:8080/",
          "height": 34
        },
        "outputId": "20f18aa3-f50f-4c31-899c-18fd38e8e311"
      },
      "source": [
        "from urllib.parse import parse_qs\n",
        "\n",
        "my_values = parse_qs('red=5&blue=0&green=',\n",
        "                    keep_blank_values=True)\n",
        "print(repr(my_values))"
      ],
      "execution_count": null,
      "outputs": [
        {
          "output_type": "stream",
          "text": [
            "{'red': ['5'], 'blue': ['0'], 'green': ['']}\n"
          ],
          "name": "stdout"
        }
      ]
    },
    {
      "cell_type": "code",
      "metadata": {
        "id": "9FgrpdyVpg7A",
        "colab": {
          "base_uri": "https://localhost:8080/",
          "height": 68
        },
        "outputId": "af273624-f12e-413b-b814-5b4ce3a17d6a"
      },
      "source": [
        "red = my_values.get('red', [''])[0] or 0\n",
        "green = my_values.get('green', [''])[0] or 0 \n",
        "opacity = my_values.get('opacity', [''])[0] or 0\n",
        "\n",
        "print('Red:      %r' % red)\n",
        "print('Green:    %r' % green)\n",
        "print('Opacity:  %r' % opacity)"
      ],
      "execution_count": null,
      "outputs": [
        {
          "output_type": "stream",
          "text": [
            "Red:      '5'\n",
            "Green:    0\n",
            "Opacity:  0\n"
          ],
          "name": "stdout"
        }
      ]
    },
    {
      "cell_type": "code",
      "metadata": {
        "id": "LCPo-s0Ust2h"
      },
      "source": [
        "red = my_values.get('red', [''])\n",
        "red = int(red[0]) if red[0] else 0"
      ],
      "execution_count": null,
      "outputs": []
    },
    {
      "cell_type": "code",
      "metadata": {
        "id": "0zxmR4GPtHKS",
        "colab": {
          "base_uri": "https://localhost:8080/",
          "height": 34
        },
        "outputId": "c5eae0ed-ab28-4160-d957-19fedba04550"
      },
      "source": [
        "# helper function\n",
        "def get_first_int(values, key, default=0):\n",
        "    found = values.get(key, [''])\n",
        "    if found[0]:\n",
        "        found = int(found[0])\n",
        "    else:\n",
        "        found = default\n",
        "    return found\n",
        "\n",
        "green = get_first_int(my_values, 'green')\n",
        "\n",
        "print(green)"
      ],
      "execution_count": null,
      "outputs": [
        {
          "output_type": "stream",
          "text": [
            "0\n"
          ],
          "name": "stdout"
        }
      ]
    },
    {
      "cell_type": "code",
      "metadata": {
        "id": "3vG4rBRJTmj0",
        "colab": {
          "base_uri": "https://localhost:8080/",
          "height": 85
        },
        "outputId": "58971bd2-4f85-47f3-b92b-d53fbd9c724e"
      },
      "source": [
        "\n",
        "a = ['a', 'b', 'c', 'd', 'e', 'f', 'g', 'h']\n",
        "print('First four:', a[:4])\n",
        "print('Last four:', a[-4:])\n",
        "\n",
        "b = ['a', 'b', 'c', 'd', 'e', 'f', 'g', 'h', 'i', 'j', 'k', 'l']\n",
        "# print(len(b))\n",
        "if len(b) % 2 == 0:\n",
        "    mid_1, mid_2 = int(mid_list(b)), int(-1 * mid_list(b))\n",
        "    print(mid_1, mid_2)\n",
        "    print('Middle two:', b[mid_1:mid_2])\n",
        "else:\n",
        "    mid = int(mid_list(b))\n",
        "    print('Middle one:', b[mid])\n",
        "\n",
        "def mid_list(list_name):\n",
        "    length = len(list_name)\n",
        "    if length % 2 == 0:\n",
        "        return (length / 2) - 1\n",
        "    else:\n",
        "        return (length - 1) / 2\n"
      ],
      "execution_count": null,
      "outputs": [
        {
          "output_type": "stream",
          "text": [
            "First four: ['a', 'b', 'c', 'd']\n",
            "Last four: ['e', 'f', 'g', 'h']\n",
            "5 -5\n",
            "Middle two: ['f', 'g']\n"
          ],
          "name": "stdout"
        }
      ]
    },
    {
      "cell_type": "code",
      "metadata": {
        "id": "Ooc2EPku6vWB"
      },
      "source": [
        "a = ['a', 'b', 'c', 'd', 'e', 'f', 'g', 'h']\n",
        "\n",
        "assert a[:5] == a[0:5]"
      ],
      "execution_count": null,
      "outputs": []
    }
  ]
}