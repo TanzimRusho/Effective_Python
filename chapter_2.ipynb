{
  "nbformat": 4,
  "nbformat_minor": 0,
  "metadata": {
    "colab": {
      "name": "chapter_2.ipynb",
      "provenance": [],
      "authorship_tag": "ABX9TyNv0On0MKn9pdGxy75JQXs8",
      "include_colab_link": true
    },
    "kernelspec": {
      "name": "python3",
      "display_name": "Python 3"
    }
  },
  "cells": [
    {
      "cell_type": "markdown",
      "metadata": {
        "id": "view-in-github",
        "colab_type": "text"
      },
      "source": [
        "<a href=\"https://colab.research.google.com/github/TanzimRusho/Effective_Python/blob/main/chapter_2.ipynb\" target=\"_parent\"><img src=\"https://colab.research.google.com/assets/colab-badge.svg\" alt=\"Open In Colab\"/></a>"
      ]
    },
    {
      "cell_type": "code",
      "metadata": {
        "id": "evsL5bUZmvhe",
        "colab": {
          "base_uri": "https://localhost:8080/",
          "height": 34
        },
        "outputId": "893389b0-d34e-4ce2-d89a-5154ff6fc762"
      },
      "source": [
        "def divide(a, b):\n",
        "    try:\n",
        "        return a / b\n",
        "    except ZeroDivisionError:\n",
        "        return None\n",
        "\n",
        "x, y = 0, 5 \n",
        "result = divide(x, y)\n",
        "#if result is None:\n",
        "#    print('Invalid inputs')\n",
        "if not result:\n",
        "    print(\"Invalid inputs\")"
      ],
      "execution_count": null,
      "outputs": [
        {
          "output_type": "stream",
          "text": [
            "Invalid inputs\n"
          ],
          "name": "stdout"
        }
      ]
    },
    {
      "cell_type": "code",
      "metadata": {
        "id": "G8uIQ_vwvNv1"
      },
      "source": [
        "def divide(a, b):\n",
        "    try:\n",
        "        return True, a / b\n",
        "    except ZeroDivisionError:\n",
        "        return False, None\n",
        "\n",
        "x, y = 0, 5 \n",
        "success, result = divide(x, y)\n",
        "if not success:\n",
        "    print(\"Invalid Inputs\")"
      ],
      "execution_count": null,
      "outputs": []
    },
    {
      "cell_type": "code",
      "metadata": {
        "id": "bzjcDXnSwjnl",
        "colab": {
          "base_uri": "https://localhost:8080/",
          "height": 34
        },
        "outputId": "e5bcd7f1-5ac9-4e59-dd35-99ff2d79db7b"
      },
      "source": [
        "_, result = divide(x, y)\n",
        "if not result:\n",
        "    print(\"Invalid Inputs\")"
      ],
      "execution_count": null,
      "outputs": [
        {
          "output_type": "stream",
          "text": [
            "Invalid Inputs\n"
          ],
          "name": "stdout"
        }
      ]
    },
    {
      "cell_type": "code",
      "metadata": {
        "id": "NJeDioLMx68H"
      },
      "source": [
        "def divide(a, b):\n",
        "    try:\n",
        "        return a / b\n",
        "    except ZeroDivisionError as e:\n",
        "        # raise ValueError(\"Invalid Inputs\") from e \n",
        "        raise ValueError from e "
      ],
      "execution_count": null,
      "outputs": []
    },
    {
      "cell_type": "code",
      "metadata": {
        "id": "BZOeueCLFuVC",
        "colab": {
          "base_uri": "https://localhost:8080/",
          "height": 34
        },
        "outputId": "5493e0d4-fcf1-453f-adca-b3565274ef31"
      },
      "source": [
        "x, y = 5, 0\n",
        "try:\n",
        "    result = divide(x, y)\n",
        "except ValueError:\n",
        "    print(\"Invalid Inputs\")\n",
        "else:\n",
        "    print(\"Result is %.1f\" % result)\n"
      ],
      "execution_count": null,
      "outputs": [
        {
          "output_type": "stream",
          "text": [
            "Invalid Inputs\n"
          ],
          "name": "stdout"
        }
      ]
    },
    {
      "cell_type": "code",
      "metadata": {
        "id": "iGtESLkBPNEw",
        "colab": {
          "base_uri": "https://localhost:8080/",
          "height": 34
        },
        "outputId": "a68f5529-a18e-4460-f732-c088ed4a5d53"
      },
      "source": [
        "def sort_priority(values, group):\n",
        "    def helper(x):\n",
        "        if x in group:\n",
        "            return (0, x)\n",
        "        return (1, x)\n",
        "    values.sort(key=helper)\n",
        "\n",
        "numbers = [8, 3, 1, 2, 5, 4, 7, 6]\n",
        "group = {2, 3, 5, 7}\n",
        "sort_priority(numbers, group)\n",
        "print(numbers)"
      ],
      "execution_count": null,
      "outputs": [
        {
          "output_type": "stream",
          "text": [
            "[2, 3, 5, 7, 1, 4, 6, 8]\n"
          ],
          "name": "stdout"
        }
      ]
    }
  ]
}